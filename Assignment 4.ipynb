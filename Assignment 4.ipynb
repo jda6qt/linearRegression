{
 "cells": [
  {
   "cell_type": "markdown",
   "id": "54b63530",
   "metadata": {},
   "source": [
    "# Assignment: Linear Models\n",
    "## Foundations of Machine Learning\n",
    "## Do Q1 and one other question\n",
    "\n",
    "Hanna Svenson (jda6qt)"
   ]
  },
  {
   "cell_type": "markdown",
   "id": "54663268",
   "metadata": {},
   "source": [
    "**Q0.** Please answer the following questions in your own words.\n",
    "\n",
    "1. What makes a model \"linear\"? \"Linear\" in what?\n",
    "\n",
    "A model is linear if the relationship between the x and y variable can be represented in a straight line. \n",
    "\n",
    "\n",
    "2. How do you interpret the coefficient for a dummy/one-hot-encoded variable? (This is a trick question, and the trick involves how you handle the intercept of the model.)\n",
    "\n",
    "If the intercept is included in the model, the coefficient tells you how much the outcome of the variable changes from the baseline of the reference category. Otherwise, the coefficient directly represents the outcome the the category without comparing it to the baseline. \n",
    "\n",
    "\n",
    "3. Can linear regression be used for classification? Explain why, or why not.\n",
    "\n",
    "Linear regression is designed for continuous outcomes rather than discrete ones, so it would likely return values that are outside of the accepted classified groups. \n",
    "\n",
    "\n",
    "4. What are signs that your linear model is over-fitting?\n",
    "\n",
    "It is a sign if the model uses too many variables and tries to exploit minor relationships it finds in the training data. This can result in high accuracy with the training data but poor performance with test data.\n",
    "\n",
    "\n",
    "5. Clearly explain multi-colinearity using the two-stage least squares technique.\n",
    "\n",
    "Multicolinearity occers when predictors are highly correlated, which makes it hard to identify the effects of 1 predictor on its own. Two stage least squares addresses this by replacing these predictors with new variables that are not correlated with eachother, allowing us to look at effects separately.\n",
    "\n",
    "\n",
    "6. What are two ways to incorporate nonlinear relationships between your target/response/dependent/outcome variable $y$ and your features/control/response/independent variables $x$?\n",
    "\n",
    "We can take logarithms of variables to capture certain relationships. We can also take an interaction term, for example new variable c = existing variable a x existing variable b.\n",
    "\n",
    "\n",
    "7. What is the interpretation of the intercept? A slope coefficient for a variable? The coefficient for a dummy/one-hot-encoded variable?\n",
    "\n",
    "The intercept represents the baseline of our data. It is the predicted \"output\" when all predictors in the model are 0. \n",
    "\n",
    "Slope represents the rate of change in the response variable as the predictor variable changes. \n",
    "\n",
    "The coefficient of a dummy variable represents how the outcome variable differs for that dummy variable differs from the baseline (or the direct outcome depending on whether the slope is included).\n"
   ]
  },
  {
   "cell_type": "markdown",
   "id": "de918186",
   "metadata": {},
   "source": [
    "**Q1.** Load `./data/Q1_clean.csv`. The data include\n",
    "\n",
    "- `Price` per night\n",
    "- `Review Scores Rating`: The average rating for the property\n",
    "- `Neighbourhood `: The bourough of NYC. Note the space, or rename the variable.\n",
    "- `Property Type`: The kind of dwelling\n",
    "- `Room Type`: The kind of space being rented\n",
    "\n",
    "1. Compute the average prices and scores by `Neighbourhood `; which bourough is the most expensive on average? Create a kernel density plot of price and log price, grouping by `Neighbourhood `.\n",
    "\n",
    "Manhattan has the highest mean price of $183.66.\n"
   ]
  },
  {
   "cell_type": "code",
   "execution_count": 2,
   "id": "97ac9daf",
   "metadata": {
    "scrolled": true
   },
   "outputs": [
    {
     "data": {
      "text/html": [
       "<div>\n",
       "<style scoped>\n",
       "    .dataframe tbody tr th:only-of-type {\n",
       "        vertical-align: middle;\n",
       "    }\n",
       "\n",
       "    .dataframe tbody tr th {\n",
       "        vertical-align: top;\n",
       "    }\n",
       "\n",
       "    .dataframe thead tr th {\n",
       "        text-align: left;\n",
       "    }\n",
       "\n",
       "    .dataframe thead tr:last-of-type th {\n",
       "        text-align: right;\n",
       "    }\n",
       "</style>\n",
       "<table border=\"1\" class=\"dataframe\">\n",
       "  <thead>\n",
       "    <tr>\n",
       "      <th></th>\n",
       "      <th colspan=\"8\" halign=\"left\">Price</th>\n",
       "    </tr>\n",
       "    <tr>\n",
       "      <th></th>\n",
       "      <th>count</th>\n",
       "      <th>mean</th>\n",
       "      <th>std</th>\n",
       "      <th>min</th>\n",
       "      <th>25%</th>\n",
       "      <th>50%</th>\n",
       "      <th>75%</th>\n",
       "      <th>max</th>\n",
       "    </tr>\n",
       "    <tr>\n",
       "      <th>Neighbourhood</th>\n",
       "      <th></th>\n",
       "      <th></th>\n",
       "      <th></th>\n",
       "      <th></th>\n",
       "      <th></th>\n",
       "      <th></th>\n",
       "      <th></th>\n",
       "      <th></th>\n",
       "    </tr>\n",
       "  </thead>\n",
       "  <tbody>\n",
       "    <tr>\n",
       "      <th>Bronx</th>\n",
       "      <td>217.0</td>\n",
       "      <td>75.276498</td>\n",
       "      <td>39.755468</td>\n",
       "      <td>10.0</td>\n",
       "      <td>50.00</td>\n",
       "      <td>60.0</td>\n",
       "      <td>90.0</td>\n",
       "      <td>244.0</td>\n",
       "    </tr>\n",
       "    <tr>\n",
       "      <th>Brooklyn</th>\n",
       "      <td>8487.0</td>\n",
       "      <td>127.747378</td>\n",
       "      <td>106.038466</td>\n",
       "      <td>20.0</td>\n",
       "      <td>75.00</td>\n",
       "      <td>100.0</td>\n",
       "      <td>150.0</td>\n",
       "      <td>4500.0</td>\n",
       "    </tr>\n",
       "    <tr>\n",
       "      <th>Manhattan</th>\n",
       "      <td>11763.0</td>\n",
       "      <td>183.664286</td>\n",
       "      <td>170.434606</td>\n",
       "      <td>25.0</td>\n",
       "      <td>103.00</td>\n",
       "      <td>150.0</td>\n",
       "      <td>214.0</td>\n",
       "      <td>10000.0</td>\n",
       "    </tr>\n",
       "    <tr>\n",
       "      <th>Queens</th>\n",
       "      <td>1590.0</td>\n",
       "      <td>96.857233</td>\n",
       "      <td>61.712648</td>\n",
       "      <td>25.0</td>\n",
       "      <td>60.00</td>\n",
       "      <td>80.0</td>\n",
       "      <td>115.0</td>\n",
       "      <td>950.0</td>\n",
       "    </tr>\n",
       "    <tr>\n",
       "      <th>Staten Island</th>\n",
       "      <td>96.0</td>\n",
       "      <td>146.166667</td>\n",
       "      <td>508.462029</td>\n",
       "      <td>35.0</td>\n",
       "      <td>54.75</td>\n",
       "      <td>71.0</td>\n",
       "      <td>99.0</td>\n",
       "      <td>5000.0</td>\n",
       "    </tr>\n",
       "  </tbody>\n",
       "</table>\n",
       "</div>"
      ],
      "text/plain": [
       "                  Price                                                      \\\n",
       "                  count        mean         std   min     25%    50%    75%   \n",
       "Neighbourhood                                                                 \n",
       "Bronx             217.0   75.276498   39.755468  10.0   50.00   60.0   90.0   \n",
       "Brooklyn         8487.0  127.747378  106.038466  20.0   75.00  100.0  150.0   \n",
       "Manhattan       11763.0  183.664286  170.434606  25.0  103.00  150.0  214.0   \n",
       "Queens           1590.0   96.857233   61.712648  25.0   60.00   80.0  115.0   \n",
       "Staten Island      96.0  146.166667  508.462029  35.0   54.75   71.0   99.0   \n",
       "\n",
       "                         \n",
       "                    max  \n",
       "Neighbourhood            \n",
       "Bronx             244.0  \n",
       "Brooklyn         4500.0  \n",
       "Manhattan       10000.0  \n",
       "Queens            950.0  \n",
       "Staten Island    5000.0  "
      ]
     },
     "execution_count": 2,
     "metadata": {},
     "output_type": "execute_result"
    }
   ],
   "source": [
    "import numpy as np\n",
    "import matplotlib.pyplot as plt\n",
    "import pandas as pd\n",
    "import seaborn as sns\n",
    "\n",
    "df = pd.read_csv('./data/Q1_clean.csv')\n",
    "df.loc[:,['Price','Neighbourhood '] ].groupby('Neighbourhood ').describe()"
   ]
  },
  {
   "cell_type": "code",
   "execution_count": 8,
   "id": "46f1f6ad",
   "metadata": {},
   "outputs": [
    {
     "data": {
      "text/plain": [
       "Text(0.5, 1.0, 'Price')"
      ]
     },
     "execution_count": 8,
     "metadata": {},
     "output_type": "execute_result"
    },
    {
     "data": {
      "image/png": "[encoded data removed]",
      "text/plain": [
       "<Figure size 640x480 with 1 Axes>"
      ]
     },
     "metadata": {},
     "output_type": "display_data"
    }
   ],
   "source": [
    "sns.kdeplot(x=df['Price'], hue=df['Neighbourhood ']).set_title(\"Price\")"
   ]
  },
  {
   "cell_type": "code",
   "execution_count": 12,
   "id": "4b36ded0",
   "metadata": {},
   "outputs": [
    {
     "data": {
      "text/plain": [
       "[Text(0.5, 1.0, 'log Price'), Text(0.5, 0, 'log Price')]"
      ]
     },
     "execution_count": 12,
     "metadata": {},
     "output_type": "execute_result"
    },
    {
     "data": {
      "image/png": "[encoded data removed]",
      "text/plain": [
       "<Figure size 640x480 with 1 Axes>"
      ]
     },
     "metadata": {},
     "output_type": "display_data"
    }
   ],
   "source": [
    "sns.kdeplot(x=np.log(df['Price']), hue=df['Neighbourhood ']).set(title = \"log Price\", xlabel = \"log Price\")"
   ]
  },
  {
   "cell_type": "markdown",
   "id": "a2bb598f",
   "metadata": {},
   "source": [
    "2. Regress price on `Neighbourhood ` by creating the appropriate dummy/one-hot-encoded variables, without an intercept in the linear model and using all the data. Compare the coefficients in the regression to the table from part 1. What pattern do you see? What are the coefficients in a regression of a continuous variable on one categorical variable?\n",
    "\n",
    "The coefficients are the same as the neighborhood price means from question 1. \n"
   ]
  },
  {
   "cell_type": "code",
   "execution_count": 17,
   "id": "873d7a94",
   "metadata": {},
   "outputs": [
    {
     "name": "stdout",
     "output_type": "stream",
     "text": [
      "R-squared:  0.04631389606035197\n"
     ]
    },
    {
     "data": {
      "text/html": [
       "<div>\n",
       "<style scoped>\n",
       "    .dataframe tbody tr th:only-of-type {\n",
       "        vertical-align: middle;\n",
       "    }\n",
       "\n",
       "    .dataframe tbody tr th {\n",
       "        vertical-align: top;\n",
       "    }\n",
       "\n",
       "    .dataframe thead th {\n",
       "        text-align: right;\n",
       "    }\n",
       "</style>\n",
       "<table border=\"1\" class=\"dataframe\">\n",
       "  <thead>\n",
       "    <tr style=\"text-align: right;\">\n",
       "      <th></th>\n",
       "      <th>variable</th>\n",
       "      <th>coefficient</th>\n",
       "    </tr>\n",
       "  </thead>\n",
       "  <tbody>\n",
       "    <tr>\n",
       "      <th>0</th>\n",
       "      <td>Bronx</td>\n",
       "      <td>75.276498</td>\n",
       "    </tr>\n",
       "    <tr>\n",
       "      <th>1</th>\n",
       "      <td>Brooklyn</td>\n",
       "      <td>127.747378</td>\n",
       "    </tr>\n",
       "    <tr>\n",
       "      <th>2</th>\n",
       "      <td>Manhattan</td>\n",
       "      <td>183.664286</td>\n",
       "    </tr>\n",
       "    <tr>\n",
       "      <th>3</th>\n",
       "      <td>Queens</td>\n",
       "      <td>96.857233</td>\n",
       "    </tr>\n",
       "    <tr>\n",
       "      <th>4</th>\n",
       "      <td>Staten Island</td>\n",
       "      <td>146.166667</td>\n",
       "    </tr>\n",
       "  </tbody>\n",
       "</table>\n",
       "</div>"
      ],
      "text/plain": [
       "        variable  coefficient\n",
       "0          Bronx    75.276498\n",
       "1       Brooklyn   127.747378\n",
       "2      Manhattan   183.664286\n",
       "3         Queens    96.857233\n",
       "4  Staten Island   146.166667"
      ]
     },
     "execution_count": 17,
     "metadata": {},
     "output_type": "execute_result"
    }
   ],
   "source": [
    "# Target Variable\n",
    "y = df['Price']\n",
    "\n",
    "# Brand Dummy:\n",
    "X_d = pd.get_dummies(df['Neighbourhood '],dtype='int') # Create brand dummies\n",
    "\n",
    "# Regresion:\n",
    "from sklearn.linear_model import LinearRegression # Import linear regression model\n",
    "reg = LinearRegression(fit_intercept=False).fit(X_d, y) # Fit the linear model\n",
    "results = pd.DataFrame({'variable':reg.feature_names_in_, 'coefficient': reg.coef_}) # Regression coefficients\n",
    "print('R-squared: ', reg.score(X_d, y)) # R squared measure\n",
    "results"
   ]
  },
  {
   "cell_type": "markdown",
   "id": "19663b82",
   "metadata": {},
   "source": [
    "3. Repeat part 2, but leave an intercept in the linear model. How do you have to handle the creation of the dummies differently? What is the intercept? Interpret the coefficients. How can I get the coefficients in part 2 from these new coefficients?\n",
    "\n",
    "The first neighborhood was dropped and used as the baseline reference. The new coefficients of the neighborhoods are relative to the Bronx. To get the previous coefficients we just add the new coefficients with the mean price of the Bronx (the previous Bronx intercept).\n",
    "\n"
   ]
  },
  {
   "cell_type": "code",
   "execution_count": 26,
   "id": "dc91fbf0",
   "metadata": {},
   "outputs": [
    {
     "name": "stdout",
     "output_type": "stream",
     "text": [
      "75.27649769585277\n"
     ]
    },
    {
     "data": {
      "text/html": [
       "<div>\n",
       "<style scoped>\n",
       "    .dataframe tbody tr th:only-of-type {\n",
       "        vertical-align: middle;\n",
       "    }\n",
       "\n",
       "    .dataframe tbody tr th {\n",
       "        vertical-align: top;\n",
       "    }\n",
       "\n",
       "    .dataframe thead th {\n",
       "        text-align: right;\n",
       "    }\n",
       "</style>\n",
       "<table border=\"1\" class=\"dataframe\">\n",
       "  <thead>\n",
       "    <tr style=\"text-align: right;\">\n",
       "      <th></th>\n",
       "      <th>variable</th>\n",
       "      <th>coefficient</th>\n",
       "    </tr>\n",
       "  </thead>\n",
       "  <tbody>\n",
       "    <tr>\n",
       "      <th>0</th>\n",
       "      <td>Brooklyn</td>\n",
       "      <td>52.470881</td>\n",
       "    </tr>\n",
       "    <tr>\n",
       "      <th>1</th>\n",
       "      <td>Manhattan</td>\n",
       "      <td>108.387789</td>\n",
       "    </tr>\n",
       "    <tr>\n",
       "      <th>2</th>\n",
       "      <td>Queens</td>\n",
       "      <td>21.580735</td>\n",
       "    </tr>\n",
       "    <tr>\n",
       "      <th>3</th>\n",
       "      <td>Staten Island</td>\n",
       "      <td>70.890169</td>\n",
       "    </tr>\n",
       "  </tbody>\n",
       "</table>\n",
       "</div>"
      ],
      "text/plain": [
       "        variable  coefficient\n",
       "0       Brooklyn    52.470881\n",
       "1      Manhattan   108.387789\n",
       "2         Queens    21.580735\n",
       "3  Staten Island    70.890169"
      ]
     },
     "execution_count": 26,
     "metadata": {},
     "output_type": "execute_result"
    }
   ],
   "source": [
    "# Target Variable\n",
    "y = df['Price']\n",
    "\n",
    "# Brand Dummy:\n",
    "X_d = pd.get_dummies(df['Neighbourhood '],dtype='int', drop_first = True) # Create brand dummies\n",
    "\n",
    "# Regresion:\n",
    "from sklearn.linear_model import LinearRegression # Import linear regression model\n",
    "reg = LinearRegression().fit(X_d, y) # Fit the linear model\n",
    "results = pd.DataFrame({'variable':reg.feature_names_in_, 'coefficient': reg.coef_}) # Regression coefficients\n",
    "print(reg.intercept_)\n",
    "results"
   ]
  },
  {
   "cell_type": "markdown",
   "id": "1d6407e4",
   "metadata": {},
   "source": [
    "4. Split the sample 80/20 into a training and a test set. Run a regression of `Price` on `Review Scores Rating` and `Neighbourhood `. What is the $R^2$ and RMSE on the test set? What is the coefficient on `Review Scores Rating`? What is the most expensive kind of property you can rent?\n"
   ]
  },
  {
   "cell_type": "code",
   "execution_count": 28,
   "id": "a6662666",
   "metadata": {},
   "outputs": [
    {
     "name": "stdout",
     "output_type": "stream",
     "text": [
      "R^2:  0.06701086106947296\n",
      "RMSE:  125.01092061382933\n"
     ]
    },
    {
     "data": {
      "text/html": [
       "<div>\n",
       "<style scoped>\n",
       "    .dataframe tbody tr th:only-of-type {\n",
       "        vertical-align: middle;\n",
       "    }\n",
       "\n",
       "    .dataframe tbody tr th {\n",
       "        vertical-align: top;\n",
       "    }\n",
       "\n",
       "    .dataframe thead th {\n",
       "        text-align: right;\n",
       "    }\n",
       "</style>\n",
       "<table border=\"1\" class=\"dataframe\">\n",
       "  <thead>\n",
       "    <tr style=\"text-align: right;\">\n",
       "      <th></th>\n",
       "      <th>variable</th>\n",
       "      <th>coefficient</th>\n",
       "    </tr>\n",
       "  </thead>\n",
       "  <tbody>\n",
       "    <tr>\n",
       "      <th>0</th>\n",
       "      <td>Review Scores Rating</td>\n",
       "      <td>1.032257</td>\n",
       "    </tr>\n",
       "    <tr>\n",
       "      <th>1</th>\n",
       "      <td>Bronx</td>\n",
       "      <td>-17.261392</td>\n",
       "    </tr>\n",
       "    <tr>\n",
       "      <th>2</th>\n",
       "      <td>Brooklyn</td>\n",
       "      <td>32.180888</td>\n",
       "    </tr>\n",
       "    <tr>\n",
       "      <th>3</th>\n",
       "      <td>Manhattan</td>\n",
       "      <td>89.421020</td>\n",
       "    </tr>\n",
       "    <tr>\n",
       "      <th>4</th>\n",
       "      <td>Queens</td>\n",
       "      <td>4.050208</td>\n",
       "    </tr>\n",
       "    <tr>\n",
       "      <th>5</th>\n",
       "      <td>Staten Island</td>\n",
       "      <td>61.576393</td>\n",
       "    </tr>\n",
       "  </tbody>\n",
       "</table>\n",
       "</div>"
      ],
      "text/plain": [
       "               variable  coefficient\n",
       "0  Review Scores Rating     1.032257\n",
       "1                 Bronx   -17.261392\n",
       "2              Brooklyn    32.180888\n",
       "3             Manhattan    89.421020\n",
       "4                Queens     4.050208\n",
       "5         Staten Island    61.576393"
      ]
     },
     "execution_count": 28,
     "metadata": {},
     "output_type": "execute_result"
    }
   ],
   "source": [
    "from sklearn import linear_model\n",
    "from sklearn.model_selection import train_test_split\n",
    "\n",
    "y = df['Price']\n",
    "X = df.loc[:,['Review Scores Rating', 'Neighbourhood '] ]\n",
    "X_train, X_test, y_train, y_test = train_test_split(X,y, # Feature and target variables\n",
    "                                                    test_size=.2, # Split the sample 80 train/ 20 test\n",
    "                                                    random_state=100) # For replication purposes\n",
    "Z_train = pd.concat([X_train['Review Scores Rating'], \n",
    "                     pd.get_dummies(X_train['Neighbourhood '], dtype='int')], axis = 1)\n",
    "Z_test = pd.concat([X_test['Review Scores Rating'], \n",
    "                    pd.get_dummies(X_test['Neighbourhood '], dtype='int')], axis = 1)\n",
    "\n",
    "reg = linear_model.LinearRegression(fit_intercept=False).fit(Z_train,y_train) # Run regression\n",
    "\n",
    "y_hat = reg.predict(Z_test)\n",
    "print('R^2: ', reg.score(Z_test,y_test)) \n",
    "rmse = np.sqrt( np.mean( (y_test - y_hat)**2 ))\n",
    "print('RMSE: ', rmse) \n",
    "\n",
    "results = pd.DataFrame({'variable':reg.feature_names_in_, 'coefficient': reg.coef_}) # Regression coefficients\n",
    "results"
   ]
  },
  {
   "cell_type": "code",
   "execution_count": 31,
   "id": "aad1bc41",
   "metadata": {},
   "outputs": [
    {
     "name": "stdout",
     "output_type": "stream",
     "text": [
      "Max price: $ 192.6257  for Manhattan unit\n"
     ]
    }
   ],
   "source": [
    "print('Max price: $', 100*1.032257+89.4, ' for Manhattan unit')"
   ]
  },
  {
   "cell_type": "markdown",
   "id": "ffcf7b25",
   "metadata": {},
   "source": [
    "5. Split the sample 80/20 into a training and a test set. Run a regression of `Price` on `Review Scores Rating` and `Neighbourhood ` and `Property Type`. What is the $R^2$ and RMSE on the test set? What is the coefficient on `Review Scores Rating`? What is the most expensive kind of property you can rent?\n"
   ]
  },
  {
   "cell_type": "code",
   "execution_count": 30,
   "id": "11e9b24c",
   "metadata": {},
   "outputs": [
    {
     "name": "stdout",
     "output_type": "stream",
     "text": [
      "Rsq:  0.22035348129282317\n",
      "RMSE:  114.27692123130633\n"
     ]
    },
    {
     "data": {
      "text/html": [
       "<div>\n",
       "<style scoped>\n",
       "    .dataframe tbody tr th:only-of-type {\n",
       "        vertical-align: middle;\n",
       "    }\n",
       "\n",
       "    .dataframe tbody tr th {\n",
       "        vertical-align: top;\n",
       "    }\n",
       "\n",
       "    .dataframe thead th {\n",
       "        text-align: right;\n",
       "    }\n",
       "</style>\n",
       "<table border=\"1\" class=\"dataframe\">\n",
       "  <thead>\n",
       "    <tr style=\"text-align: right;\">\n",
       "      <th></th>\n",
       "      <th>variable</th>\n",
       "      <th>coefficient</th>\n",
       "    </tr>\n",
       "  </thead>\n",
       "  <tbody>\n",
       "    <tr>\n",
       "      <th>0</th>\n",
       "      <td>Review Scores Rating</td>\n",
       "      <td>0.626912</td>\n",
       "    </tr>\n",
       "    <tr>\n",
       "      <th>1</th>\n",
       "      <td>Bronx</td>\n",
       "      <td>-13.022765</td>\n",
       "    </tr>\n",
       "    <tr>\n",
       "      <th>2</th>\n",
       "      <td>Brooklyn</td>\n",
       "      <td>10.378456</td>\n",
       "    </tr>\n",
       "    <tr>\n",
       "      <th>3</th>\n",
       "      <td>Manhattan</td>\n",
       "      <td>53.693304</td>\n",
       "    </tr>\n",
       "    <tr>\n",
       "      <th>4</th>\n",
       "      <td>Queens</td>\n",
       "      <td>-6.833330</td>\n",
       "    </tr>\n",
       "    <tr>\n",
       "      <th>5</th>\n",
       "      <td>Staten Island</td>\n",
       "      <td>50.003022</td>\n",
       "    </tr>\n",
       "    <tr>\n",
       "      <th>6</th>\n",
       "      <td>Entire home/apt</td>\n",
       "      <td>110.617820</td>\n",
       "    </tr>\n",
       "    <tr>\n",
       "      <th>7</th>\n",
       "      <td>Private room</td>\n",
       "      <td>3.101341</td>\n",
       "    </tr>\n",
       "    <tr>\n",
       "      <th>8</th>\n",
       "      <td>Shared room</td>\n",
       "      <td>-19.500474</td>\n",
       "    </tr>\n",
       "  </tbody>\n",
       "</table>\n",
       "</div>"
      ],
      "text/plain": [
       "               variable  coefficient\n",
       "0  Review Scores Rating     0.626912\n",
       "1                 Bronx   -13.022765\n",
       "2              Brooklyn    10.378456\n",
       "3             Manhattan    53.693304\n",
       "4                Queens    -6.833330\n",
       "5         Staten Island    50.003022\n",
       "6       Entire home/apt   110.617820\n",
       "7          Private room     3.101341\n",
       "8           Shared room   -19.500474"
      ]
     },
     "execution_count": 30,
     "metadata": {},
     "output_type": "execute_result"
    }
   ],
   "source": [
    "y = df['Price']\n",
    "X = df.loc[:,['Review Scores Rating', 'Neighbourhood ', 'Room Type'] ]\n",
    "X_train, X_test, y_train, y_test = train_test_split(X,y, # Feature and target variables\n",
    "                                                    test_size=.2, # Split the sample 80 train/ 20 test\n",
    "                                                    random_state=100) # For replication purposes\n",
    "\n",
    "Z_train = pd.concat([X_train['Review Scores Rating'], \n",
    "                    pd.get_dummies(X_train['Neighbourhood '], dtype='int'),\n",
    "                    pd.get_dummies(X_train['Room Type'], dtype='int')],\n",
    "                    axis = 1)\n",
    "Z_test = pd.concat([X_test['Review Scores Rating'], \n",
    "                    pd.get_dummies(X_test['Neighbourhood '], dtype='int'),\n",
    "                    pd.get_dummies(X_test['Room Type'], dtype='int')],\n",
    "                    axis = 1)\n",
    "reg = linear_model.LinearRegression(fit_intercept=False).fit(Z_train,y_train) # Run regression\n",
    "y_hat = reg.predict(Z_test)\n",
    "print('Rsq: ', reg.score(Z_test,y_test)) # R2\n",
    "rmse = np.sqrt( np.mean( (y_test - y_hat)**2 ))\n",
    "print('RMSE: ', rmse) # R2\n",
    "results = pd.DataFrame({'variable':reg.feature_names_in_, 'coefficient': reg.coef_}) # Regression coefficients\n",
    "results"
   ]
  },
  {
   "cell_type": "code",
   "execution_count": 32,
   "id": "d608834c",
   "metadata": {},
   "outputs": [
    {
     "name": "stdout",
     "output_type": "stream",
     "text": [
      "Max price: $ 227.002324  for an entire Manhattan home/apt\n"
     ]
    }
   ],
   "source": [
    "print('Max price: $', 100*0.626912+53.693304+110.617820, ' for an entire Manhattan home/apt')"
   ]
  },
  {
   "cell_type": "markdown",
   "id": "15f39a39",
   "metadata": {},
   "source": [
    "6. What does the coefficient on `Review Scores Rating` mean if it changes from part 4 to 5? Hint: Think about how multilple linear regression works.\n"
   ]
  },
  {
   "cell_type": "markdown",
   "id": "cbbfef05",
   "metadata": {},
   "source": [
    "Since we are including the variable for room type in question 5, this means we are considering more data than in question 4. We are extracting connections from more variables in 5, which would explain why the the impact of the predictors for the neighborhood is less than it was in 4. "
   ]
  }
 ],
 "metadata": {
  "kernelspec": {
   "display_name": "Python 3 (ipykernel)",
   "language": "python",
   "name": "python3"
  },
  "language_info": {
   "codemirror_mode": {
    "name": "ipython",
    "version": 3
   },
   "file_extension": ".py",
   "mimetype": "text/x-python",
   "name": "python",
   "nbconvert_exporter": "python",
   "pygments_lexer": "ipython3",
   "version": "3.11.4"
  }
 },
 "nbformat": 4,
 "nbformat_minor": 5
}
